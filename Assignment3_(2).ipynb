{
  "nbformat": 4,
  "nbformat_minor": 0,
  "metadata": {
    "colab": {
      "name": "Assignment3 (2).ipynb",
      "version": "0.3.2",
      "provenance": [],
      "collapsed_sections": [],
      "include_colab_link": true
    },
    "kernelspec": {
      "name": "python3",
      "display_name": "Python 3"
    },
    "accelerator": "GPU"
  },
  "cells": [
    {
      "cell_type": "markdown",
      "metadata": {
        "id": "view-in-github",
        "colab_type": "text"
      },
      "source": [
        "<a href=\"https://colab.research.google.com/github/sumedhvdatar/Datastructures/blob/master/Assignment3_(2).ipynb\" target=\"_parent\"><img src=\"https://colab.research.google.com/assets/colab-badge.svg\" alt=\"Open In Colab\"/></a>"
      ]
    },
    {
      "metadata": {
        "id": "UY2KrjmuELHn",
        "colab_type": "text"
      },
      "cell_type": "markdown",
      "source": [
        "Before you turn this problem in, make sure everything runs as expected. First, **restart the kernel** (in the menubar, select Kernel$\\rightarrow$Restart) and then **run all cells** (in the menubar, select Cell$\\rightarrow$Run All).\n",
        "\n",
        "Make sure you fill in any place that says `YOUR CODE HERE` or \"YOUR ANSWER HERE\", as well as your name."
      ]
    },
    {
      "metadata": {
        "id": "1-6-uTtoELHp",
        "colab_type": "code",
        "colab": {}
      },
      "cell_type": "code",
      "source": [
        "NAME = \"Sumedh Vilas Datar\""
      ],
      "execution_count": 0,
      "outputs": []
    },
    {
      "metadata": {
        "id": "-LjTr2RvELHu",
        "colab_type": "text"
      },
      "cell_type": "markdown",
      "source": [
        "---"
      ]
    },
    {
      "metadata": {
        "deletable": false,
        "editable": false,
        "nbgrader": {
          "checksum": "e37d66080a35ccd885ab05f83da56fb3",
          "grade": false,
          "grade_id": "cell-3c8e604f2bd13b29",
          "locked": true,
          "schema_version": 1,
          "solution": false
        },
        "id": "vz9HLIMVELHv",
        "colab_type": "text"
      },
      "cell_type": "markdown",
      "source": [
        "# Assignment Description\n",
        "The purpose of this assignment is to gain some experience with multilayer and convolutional networks.\n",
        "This assignment will be fairly open-ended, but I will give some general guidelines."
      ]
    },
    {
      "metadata": {
        "deletable": false,
        "editable": false,
        "nbgrader": {
          "checksum": "cec65fba906620ef1c980ccb6ff4d93d",
          "grade": false,
          "grade_id": "cell-8d4b87ee874eb380",
          "locked": true,
          "schema_version": 1,
          "solution": false
        },
        "id": "ee2l5MP_ELHw",
        "colab_type": "text"
      },
      "cell_type": "markdown",
      "source": [
        "# Part 1 - Fully Connected Feed Forward Networks\n",
        "Train a feedforward networks in python to perform a task of your choice. If you don't have anything in mind, you can do classification of some common datasets (MNIST, Fashion MNIST). You may find it interesting to use other datasets (faces, etc).\n",
        "\n",
        "Please don't do anything simpler than this, unless it's interesting (a problem in your research, from your work, using a unique dataset).\n",
        "\n",
        "You may use libraries for this assignment (tensorflow, keras, sklearn, etc). Please don't use other neural network libraries (pytorch, etc).\n",
        "\n",
        "You may re-use code from previous assignment. You may follow some tutorial, but please some unique contribution (use a different dataset, for example)."
      ]
    },
    {
      "metadata": {
        "deletable": false,
        "editable": false,
        "nbgrader": {
          "checksum": "7e499733f3781945a5d36923ffeaf8a9",
          "grade": false,
          "grade_id": "cell-d1d9a2b9fa38a377",
          "locked": true,
          "schema_version": 1,
          "solution": false
        },
        "id": "KPI52bSqELHw",
        "colab_type": "text"
      },
      "cell_type": "markdown",
      "source": [
        "# 1A - Preprocessing\n",
        "Code that does any imports, data loading, preprocessing, normalization goes in the cell below. Please use only a single cell.\n",
        "\n",
        "You may do this however you wish, but should follow the practices we learned in class (shuffling data, normalizing, etc).\n",
        "\n",
        "If you want to experiment with some feature transformations, I would encourage it (just be careful of generating too many features)."
      ]
    },
    {
      "metadata": {
        "deletable": false,
        "nbgrader": {
          "checksum": "885a76e82190cb88b89d80a7d2880264",
          "grade": true,
          "grade_id": "1a",
          "locked": false,
          "points": 8,
          "schema_version": 1,
          "solution": true
        },
        "id": "IJQp98jRELHx",
        "colab_type": "code",
        "outputId": "8d7621a7-4a02-4cde-c6c3-1f78179dc0a6",
        "colab": {
          "base_uri": "https://localhost:8080/",
          "height": 84
        }
      },
      "cell_type": "code",
      "source": [
        "from __future__ import print_function\n",
        "import keras\n",
        "from keras.datasets import cifar10\n",
        "from keras.preprocessing.image import ImageDataGenerator\n",
        "from keras.models import Sequential\n",
        "from keras.layers import Dense, Dropout, Activation, Flatten\n",
        "from keras.layers import Conv2D, MaxPooling2D\n",
        "import os\n",
        "\n",
        "batch_size = 32\n",
        "num_classes = 10\n",
        "epochs = 100\n",
        "data_augmentation = True\n",
        "num_predictions = 20\n",
        "save_dir = os.path.join(os.getcwd(), 'saved_models')\n",
        "model_name = 'keras_cifar10_trained_model.h5'\n",
        "\n",
        "# The data, split between train and test sets:\n",
        "(x_train, y_train), (x_test, y_test) = cifar10.load_data()\n",
        "print('x_train shape:', x_train.shape)\n",
        "print(x_train.shape[0], 'train samples')\n",
        "print(x_test.shape[0], 'test samples')\n",
        "\n",
        "# Convert class vectors to binary class matrices.\n",
        "y_train = keras.utils.to_categorical(y_train, num_classes)\n",
        "y_test = keras.utils.to_categorical(y_test, num_classes)"
      ],
      "execution_count": 3,
      "outputs": [
        {
          "output_type": "stream",
          "text": [
            "Using TensorFlow backend.\n"
          ],
          "name": "stderr"
        },
        {
          "output_type": "stream",
          "text": [
            "x_train shape: (50000, 32, 32, 3)\n",
            "50000 train samples\n",
            "10000 test samples\n"
          ],
          "name": "stdout"
        }
      ]
    },
    {
      "metadata": {
        "id": "zlG6rV9cE4lo",
        "colab_type": "code",
        "outputId": "da8478f2-299c-45b1-f4a0-0266d136700a",
        "colab": {
          "base_uri": "https://localhost:8080/",
          "height": 106
        }
      },
      "cell_type": "code",
      "source": [
        "import matplotlib.pyplot as plt\n",
        "plt.figure(figsize=(1,1))\n",
        "plt.imshow(x_test[10],interpolation='nearest')\n",
        "plt.show()"
      ],
      "execution_count": 3,
      "outputs": [
        {
          "output_type": "display_data",
          "data": {
            "image/png": "[encoded data removed]",
            "text/plain": [
              "<Figure size 72x72 with 1 Axes>"
            ]
          },
          "metadata": {
            "tags": []
          }
        }
      ]
    },
    {
      "metadata": {
        "deletable": false,
        "editable": false,
        "nbgrader": {
          "checksum": "118d140bee859fbcecc470d176820157",
          "grade": false,
          "grade_id": "cell-8be2b07e3ef21eeb",
          "locked": true,
          "schema_version": 1,
          "solution": false
        },
        "id": "xKFKq-khELH0",
        "colab_type": "text"
      },
      "cell_type": "markdown",
      "source": [
        "# 1B - Model definition\n",
        "Create a fully connected feedforward network model. You can use whatever you want in terms of activation functions/architecture/etc.\n",
        "\n",
        "However please make sure your architecture is compatible with the task you choose."
      ]
    },
    {
      "metadata": {
        "id": "UmDojZegSaYi",
        "colab_type": "code",
        "outputId": "cf3dec5b-fde8-4c4c-a7af-094cac9ecb8e",
        "colab": {
          "base_uri": "https://localhost:8080/",
          "height": 87
        }
      },
      "cell_type": "code",
      "source": [
        "model = Sequential()\n",
        "model.add(Flatten(input_shape=(32, 32, 3)))\n",
        "model.add(Dense(128, activation='sigmoid'))\n",
        "model.add(Dense(128, activation='sigmoid'))\n",
        "model.add(Dense(10))\n",
        "model.add(Activation('softmax'))\n",
        " \n",
        "model.compile(optimizer='adam',loss='categorical_crossentropy',metrics=['accuracy'])"
      ],
      "execution_count": 4,
      "outputs": [
        {
          "output_type": "stream",
          "text": [
            "WARNING:tensorflow:From /usr/local/lib/python3.6/dist-packages/tensorflow/python/framework/op_def_library.py:263: colocate_with (from tensorflow.python.framework.ops) is deprecated and will be removed in a future version.\n",
            "Instructions for updating:\n",
            "Colocations handled automatically by placer.\n"
          ],
          "name": "stdout"
        }
      ]
    },
    {
      "metadata": {
        "id": "9INg8jeVJKaX",
        "colab_type": "code",
        "outputId": "c2fa9595-a375-473b-9983-7e080e47f393",
        "colab": {
          "base_uri": "https://localhost:8080/",
          "height": 302
        }
      },
      "cell_type": "code",
      "source": [
        "model.summary()"
      ],
      "execution_count": 5,
      "outputs": [
        {
          "output_type": "stream",
          "text": [
            "_________________________________________________________________\n",
            "Layer (type)                 Output Shape              Param #   \n",
            "=================================================================\n",
            "flatten_1 (Flatten)          (None, 3072)              0         \n",
            "_________________________________________________________________\n",
            "dense_1 (Dense)              (None, 128)               393344    \n",
            "_________________________________________________________________\n",
            "dense_2 (Dense)              (None, 128)               16512     \n",
            "_________________________________________________________________\n",
            "dense_3 (Dense)              (None, 10)                1290      \n",
            "_________________________________________________________________\n",
            "activation_1 (Activation)    (None, 10)                0         \n",
            "=================================================================\n",
            "Total params: 411,146\n",
            "Trainable params: 411,146\n",
            "Non-trainable params: 0\n",
            "_________________________________________________________________\n"
          ],
          "name": "stdout"
        }
      ]
    },
    {
      "metadata": {
        "deletable": false,
        "editable": false,
        "nbgrader": {
          "checksum": "55eb0ede53799995cf4035dacce2377c",
          "grade": false,
          "grade_id": "cell-b69989d6191cfae0",
          "locked": true,
          "schema_version": 1,
          "solution": false
        },
        "id": "Ubo8mvnWELH5",
        "colab_type": "text"
      },
      "cell_type": "markdown",
      "source": [
        "# 1C - Training\n",
        "Train a single fully connected network for this task. If you do some kind of hyperparameter search, just include the best parameters in your submission."
      ]
    },
    {
      "metadata": {
        "deletable": false,
        "nbgrader": {
          "checksum": "fb5d9e04255f5cfdfe2860f473dfc465",
          "grade": true,
          "grade_id": "1c",
          "locked": false,
          "points": 8,
          "schema_version": 1,
          "solution": true
        },
        "id": "MV0uJ4LxELH6",
        "colab_type": "code",
        "outputId": "21211043-719f-4463-c3dd-98bbe11802b3",
        "colab": {
          "base_uri": "https://localhost:8080/",
          "height": 3481
        }
      },
      "cell_type": "code",
      "source": [
        "x_train = x_train.astype('float32')\n",
        "x_test = x_test.astype('float32')\n",
        "x_train /= 255\n",
        "x_test /= 255\n",
        "\n",
        "model.fit(x_train, y_train,batch_size=batch_size,epochs=epochs,validation_data=(x_test, y_test),shuffle=True)"
      ],
      "execution_count": 6,
      "outputs": [
        {
          "output_type": "stream",
          "text": [
            "WARNING:tensorflow:From /usr/local/lib/python3.6/dist-packages/tensorflow/python/ops/math_ops.py:3066: to_int32 (from tensorflow.python.ops.math_ops) is deprecated and will be removed in a future version.\n",
            "Instructions for updating:\n",
            "Use tf.cast instead.\n",
            "Train on 50000 samples, validate on 10000 samples\n",
            "Epoch 1/100\n",
            "50000/50000 [==============================] - 8s 159us/step - loss: 1.9238 - acc: 0.3009 - val_loss: 1.8475 - val_acc: 0.3310\n",
            "Epoch 2/100\n",
            "50000/50000 [==============================] - 6s 123us/step - loss: 1.7830 - acc: 0.3585 - val_loss: 1.7357 - val_acc: 0.3729\n",
            "Epoch 3/100\n",
            "50000/50000 [==============================] - 6s 125us/step - loss: 1.7246 - acc: 0.3820 - val_loss: 1.7131 - val_acc: 0.3769\n",
            "Epoch 4/100\n",
            "50000/50000 [==============================] - 6s 123us/step - loss: 1.6812 - acc: 0.3979 - val_loss: 1.6582 - val_acc: 0.4084\n",
            "Epoch 5/100\n",
            "50000/50000 [==============================] - 6s 123us/step - loss: 1.6451 - acc: 0.4106 - val_loss: 1.6885 - val_acc: 0.3875\n",
            "Epoch 6/100\n",
            "50000/50000 [==============================] - 6s 123us/step - loss: 1.6238 - acc: 0.4195 - val_loss: 1.6129 - val_acc: 0.4234\n",
            "Epoch 7/100\n",
            "50000/50000 [==============================] - 6s 123us/step - loss: 1.6051 - acc: 0.4251 - val_loss: 1.6366 - val_acc: 0.4110\n",
            "Epoch 8/100\n",
            "50000/50000 [==============================] - 7s 137us/step - loss: 1.5889 - acc: 0.4285 - val_loss: 1.6070 - val_acc: 0.4274\n",
            "Epoch 9/100\n",
            "50000/50000 [==============================] - 7s 132us/step - loss: 1.5701 - acc: 0.4399 - val_loss: 1.6246 - val_acc: 0.4148\n",
            "Epoch 10/100\n",
            "50000/50000 [==============================] - 6s 124us/step - loss: 1.5582 - acc: 0.4418 - val_loss: 1.5857 - val_acc: 0.4322\n",
            "Epoch 11/100\n",
            "50000/50000 [==============================] - 6s 124us/step - loss: 1.5447 - acc: 0.4463 - val_loss: 1.5900 - val_acc: 0.4258\n",
            "Epoch 12/100\n",
            "50000/50000 [==============================] - 7s 142us/step - loss: 1.5336 - acc: 0.4494 - val_loss: 1.5897 - val_acc: 0.4278\n",
            "Epoch 13/100\n",
            "50000/50000 [==============================] - 7s 136us/step - loss: 1.5204 - acc: 0.4549 - val_loss: 1.5634 - val_acc: 0.4375\n",
            "Epoch 14/100\n",
            "50000/50000 [==============================] - 6s 125us/step - loss: 1.5124 - acc: 0.4576 - val_loss: 1.5632 - val_acc: 0.4397\n",
            "Epoch 15/100\n",
            "50000/50000 [==============================] - 6s 125us/step - loss: 1.5038 - acc: 0.4604 - val_loss: 1.5318 - val_acc: 0.4502\n",
            "Epoch 16/100\n",
            "50000/50000 [==============================] - 6s 123us/step - loss: 1.4951 - acc: 0.4631 - val_loss: 1.5356 - val_acc: 0.4498\n",
            "Epoch 17/100\n",
            "50000/50000 [==============================] - 7s 131us/step - loss: 1.4817 - acc: 0.4646 - val_loss: 1.5381 - val_acc: 0.4477\n",
            "Epoch 18/100\n",
            "50000/50000 [==============================] - 6s 130us/step - loss: 1.4713 - acc: 0.4702 - val_loss: 1.5274 - val_acc: 0.4550\n",
            "Epoch 19/100\n",
            "50000/50000 [==============================] - 6s 124us/step - loss: 1.4589 - acc: 0.4761 - val_loss: 1.5462 - val_acc: 0.4467\n",
            "Epoch 20/100\n",
            "50000/50000 [==============================] - 7s 131us/step - loss: 1.4637 - acc: 0.4729 - val_loss: 1.5687 - val_acc: 0.4385\n",
            "Epoch 21/100\n",
            "50000/50000 [==============================] - 7s 138us/step - loss: 1.4594 - acc: 0.4741 - val_loss: 1.5265 - val_acc: 0.4506\n",
            "Epoch 22/100\n",
            "50000/50000 [==============================] - 6s 122us/step - loss: 1.4509 - acc: 0.4790 - val_loss: 1.5297 - val_acc: 0.4538\n",
            "Epoch 23/100\n",
            "50000/50000 [==============================] - 6s 122us/step - loss: 1.4396 - acc: 0.4810 - val_loss: 1.5303 - val_acc: 0.4535\n",
            "Epoch 24/100\n",
            "50000/50000 [==============================] - 6s 123us/step - loss: 1.4320 - acc: 0.4851 - val_loss: 1.5233 - val_acc: 0.4596\n",
            "Epoch 25/100\n",
            "50000/50000 [==============================] - 6s 122us/step - loss: 1.4297 - acc: 0.4862 - val_loss: 1.5341 - val_acc: 0.4540\n",
            "Epoch 26/100\n",
            "50000/50000 [==============================] - 6s 122us/step - loss: 1.4140 - acc: 0.4909 - val_loss: 1.5144 - val_acc: 0.4601\n",
            "Epoch 27/100\n",
            "50000/50000 [==============================] - 6s 122us/step - loss: 1.4079 - acc: 0.4933 - val_loss: 1.5524 - val_acc: 0.4487\n",
            "Epoch 28/100\n",
            "50000/50000 [==============================] - 6s 123us/step - loss: 1.4072 - acc: 0.4930 - val_loss: 1.5488 - val_acc: 0.4448\n",
            "Epoch 29/100\n",
            "50000/50000 [==============================] - 6s 124us/step - loss: 1.4024 - acc: 0.4968 - val_loss: 1.5421 - val_acc: 0.4518\n",
            "Epoch 30/100\n",
            "50000/50000 [==============================] - 6s 124us/step - loss: 1.3891 - acc: 0.5016 - val_loss: 1.5056 - val_acc: 0.4622\n",
            "Epoch 31/100\n",
            "50000/50000 [==============================] - 6s 124us/step - loss: 1.3875 - acc: 0.5004 - val_loss: 1.5053 - val_acc: 0.4685\n",
            "Epoch 32/100\n",
            "50000/50000 [==============================] - 6s 122us/step - loss: 1.3778 - acc: 0.5059 - val_loss: 1.4938 - val_acc: 0.4710\n",
            "Epoch 33/100\n",
            "50000/50000 [==============================] - 7s 131us/step - loss: 1.3712 - acc: 0.5081 - val_loss: 1.5497 - val_acc: 0.4546\n",
            "Epoch 34/100\n",
            "50000/50000 [==============================] - 7s 137us/step - loss: 1.3693 - acc: 0.5091 - val_loss: 1.5258 - val_acc: 0.4584\n",
            "Epoch 35/100\n",
            "50000/50000 [==============================] - 6s 121us/step - loss: 1.3621 - acc: 0.5108 - val_loss: 1.5276 - val_acc: 0.4600\n",
            "Epoch 36/100\n",
            "50000/50000 [==============================] - 6s 121us/step - loss: 1.3597 - acc: 0.5093 - val_loss: 1.4991 - val_acc: 0.4595\n",
            "Epoch 37/100\n",
            "50000/50000 [==============================] - 6s 122us/step - loss: 1.3548 - acc: 0.5129 - val_loss: 1.5123 - val_acc: 0.4710\n",
            "Epoch 38/100\n",
            "50000/50000 [==============================] - 6s 122us/step - loss: 1.3483 - acc: 0.5146 - val_loss: 1.4923 - val_acc: 0.4747\n",
            "Epoch 39/100\n",
            "50000/50000 [==============================] - 6s 124us/step - loss: 1.3395 - acc: 0.5205 - val_loss: 1.5003 - val_acc: 0.4695\n",
            "Epoch 40/100\n",
            "50000/50000 [==============================] - 6s 123us/step - loss: 1.3336 - acc: 0.5229 - val_loss: 1.5065 - val_acc: 0.4756\n",
            "Epoch 41/100\n",
            "50000/50000 [==============================] - 6s 123us/step - loss: 1.3315 - acc: 0.5238 - val_loss: 1.4974 - val_acc: 0.4654\n",
            "Epoch 42/100\n",
            "50000/50000 [==============================] - 6s 122us/step - loss: 1.3255 - acc: 0.5247 - val_loss: 1.4998 - val_acc: 0.4777\n",
            "Epoch 43/100\n",
            "50000/50000 [==============================] - 6s 122us/step - loss: 1.3216 - acc: 0.5289 - val_loss: 1.5069 - val_acc: 0.4722\n",
            "Epoch 44/100\n",
            "50000/50000 [==============================] - 6s 123us/step - loss: 1.3152 - acc: 0.5279 - val_loss: 1.5123 - val_acc: 0.4653\n",
            "Epoch 45/100\n",
            "50000/50000 [==============================] - 6s 122us/step - loss: 1.3055 - acc: 0.5318 - val_loss: 1.4901 - val_acc: 0.4725\n",
            "Epoch 46/100\n",
            "50000/50000 [==============================] - 7s 131us/step - loss: 1.2996 - acc: 0.5347 - val_loss: 1.4794 - val_acc: 0.4825\n",
            "Epoch 47/100\n",
            "50000/50000 [==============================] - 7s 135us/step - loss: 1.2963 - acc: 0.5350 - val_loss: 1.4937 - val_acc: 0.4712\n",
            "Epoch 48/100\n",
            "50000/50000 [==============================] - 6s 120us/step - loss: 1.2934 - acc: 0.5359 - val_loss: 1.5004 - val_acc: 0.4778\n",
            "Epoch 49/100\n",
            "50000/50000 [==============================] - 6s 123us/step - loss: 1.2827 - acc: 0.5399 - val_loss: 1.5466 - val_acc: 0.4643\n",
            "Epoch 50/100\n",
            "50000/50000 [==============================] - 6s 124us/step - loss: 1.2796 - acc: 0.5410 - val_loss: 1.5109 - val_acc: 0.4687\n",
            "Epoch 51/100\n",
            "50000/50000 [==============================] - 6s 121us/step - loss: 1.2707 - acc: 0.5449 - val_loss: 1.5137 - val_acc: 0.4716\n",
            "Epoch 52/100\n",
            "50000/50000 [==============================] - 6s 121us/step - loss: 1.2710 - acc: 0.5426 - val_loss: 1.5069 - val_acc: 0.4680\n",
            "Epoch 53/100\n",
            "50000/50000 [==============================] - 6s 122us/step - loss: 1.2700 - acc: 0.5445 - val_loss: 1.5085 - val_acc: 0.4727\n",
            "Epoch 54/100\n",
            "50000/50000 [==============================] - 6s 122us/step - loss: 1.2577 - acc: 0.5492 - val_loss: 1.5312 - val_acc: 0.4726\n",
            "Epoch 55/100\n",
            "50000/50000 [==============================] - 6s 121us/step - loss: 1.2586 - acc: 0.5474 - val_loss: 1.5056 - val_acc: 0.4710\n",
            "Epoch 56/100\n",
            "50000/50000 [==============================] - 6s 121us/step - loss: 1.2527 - acc: 0.5499 - val_loss: 1.5060 - val_acc: 0.4752\n",
            "Epoch 57/100\n",
            "50000/50000 [==============================] - 6s 122us/step - loss: 1.2478 - acc: 0.5527 - val_loss: 1.4976 - val_acc: 0.4722\n",
            "Epoch 58/100\n",
            "50000/50000 [==============================] - 6s 122us/step - loss: 1.2408 - acc: 0.5551 - val_loss: 1.4933 - val_acc: 0.4795\n",
            "Epoch 59/100\n",
            "50000/50000 [==============================] - 7s 132us/step - loss: 1.2395 - acc: 0.5545 - val_loss: 1.5013 - val_acc: 0.4813\n",
            "Epoch 60/100\n",
            "50000/50000 [==============================] - 7s 136us/step - loss: 1.2302 - acc: 0.5594 - val_loss: 1.5027 - val_acc: 0.4740\n",
            "Epoch 61/100\n",
            "50000/50000 [==============================] - 6s 127us/step - loss: 1.2259 - acc: 0.5576 - val_loss: 1.5119 - val_acc: 0.4788\n",
            "Epoch 62/100\n",
            "50000/50000 [==============================] - 7s 144us/step - loss: 1.2257 - acc: 0.5621 - val_loss: 1.4930 - val_acc: 0.4861\n",
            "Epoch 63/100\n",
            "50000/50000 [==============================] - 6s 125us/step - loss: 1.2204 - acc: 0.5607 - val_loss: 1.5012 - val_acc: 0.4825\n",
            "Epoch 64/100\n",
            "50000/50000 [==============================] - 6s 123us/step - loss: 1.2178 - acc: 0.5647 - val_loss: 1.4861 - val_acc: 0.4865\n",
            "Epoch 65/100\n",
            "50000/50000 [==============================] - 6s 122us/step - loss: 1.2027 - acc: 0.5680 - val_loss: 1.5120 - val_acc: 0.4721\n",
            "Epoch 66/100\n",
            "50000/50000 [==============================] - 7s 134us/step - loss: 1.2021 - acc: 0.5671 - val_loss: 1.5016 - val_acc: 0.4861\n",
            "Epoch 67/100\n",
            "50000/50000 [==============================] - 6s 125us/step - loss: 1.1994 - acc: 0.5696 - val_loss: 1.5081 - val_acc: 0.4833\n",
            "Epoch 68/100\n",
            "50000/50000 [==============================] - 6s 122us/step - loss: 1.1951 - acc: 0.5689 - val_loss: 1.5194 - val_acc: 0.4745\n",
            "Epoch 69/100\n",
            "50000/50000 [==============================] - 6s 124us/step - loss: 1.1882 - acc: 0.5726 - val_loss: 1.5121 - val_acc: 0.4777\n",
            "Epoch 70/100\n",
            "50000/50000 [==============================] - 6s 123us/step - loss: 1.1826 - acc: 0.5762 - val_loss: 1.5406 - val_acc: 0.4790\n",
            "Epoch 71/100\n",
            "50000/50000 [==============================] - 6s 122us/step - loss: 1.1828 - acc: 0.5757 - val_loss: 1.5252 - val_acc: 0.4774\n",
            "Epoch 72/100\n",
            "50000/50000 [==============================] - 7s 139us/step - loss: 1.1778 - acc: 0.5757 - val_loss: 1.5076 - val_acc: 0.4803\n",
            "Epoch 73/100\n",
            "50000/50000 [==============================] - 6s 129us/step - loss: 1.1729 - acc: 0.5786 - val_loss: 1.4983 - val_acc: 0.4774\n",
            "Epoch 74/100\n",
            "50000/50000 [==============================] - 6s 123us/step - loss: 1.1696 - acc: 0.5796 - val_loss: 1.5065 - val_acc: 0.4872\n",
            "Epoch 75/100\n",
            "50000/50000 [==============================] - 6s 122us/step - loss: 1.1636 - acc: 0.5835 - val_loss: 1.5094 - val_acc: 0.4826\n",
            "Epoch 76/100\n",
            "50000/50000 [==============================] - 6s 122us/step - loss: 1.1603 - acc: 0.5841 - val_loss: 1.5063 - val_acc: 0.4870\n",
            "Epoch 77/100\n",
            "50000/50000 [==============================] - 6s 123us/step - loss: 1.1519 - acc: 0.5872 - val_loss: 1.5024 - val_acc: 0.4858\n",
            "Epoch 78/100\n",
            "50000/50000 [==============================] - 6s 122us/step - loss: 1.1476 - acc: 0.5867 - val_loss: 1.5244 - val_acc: 0.4790\n",
            "Epoch 79/100\n",
            "50000/50000 [==============================] - 6s 123us/step - loss: 1.1529 - acc: 0.5861 - val_loss: 1.5536 - val_acc: 0.4764\n",
            "Epoch 80/100\n",
            "50000/50000 [==============================] - 6s 123us/step - loss: 1.1436 - acc: 0.5900 - val_loss: 1.5374 - val_acc: 0.4766\n",
            "Epoch 81/100\n",
            "50000/50000 [==============================] - 6s 122us/step - loss: 1.1302 - acc: 0.5929 - val_loss: 1.5404 - val_acc: 0.4777\n",
            "Epoch 82/100\n",
            "50000/50000 [==============================] - 6s 122us/step - loss: 1.1330 - acc: 0.5938 - val_loss: 1.5282 - val_acc: 0.4811\n",
            "Epoch 83/100\n",
            "50000/50000 [==============================] - 6s 123us/step - loss: 1.1282 - acc: 0.5937 - val_loss: 1.5363 - val_acc: 0.4861\n",
            "Epoch 84/100\n",
            "50000/50000 [==============================] - 6s 123us/step - loss: 1.1229 - acc: 0.5970 - val_loss: 1.5533 - val_acc: 0.4774\n",
            "Epoch 85/100\n",
            "50000/50000 [==============================] - 7s 139us/step - loss: 1.1205 - acc: 0.5991 - val_loss: 1.5359 - val_acc: 0.4796\n",
            "Epoch 86/100\n",
            "50000/50000 [==============================] - 6s 129us/step - loss: 1.1140 - acc: 0.6014 - val_loss: 1.5352 - val_acc: 0.4770\n",
            "Epoch 87/100\n",
            "50000/50000 [==============================] - 6s 124us/step - loss: 1.1063 - acc: 0.6043 - val_loss: 1.5395 - val_acc: 0.4889\n",
            "Epoch 88/100\n",
            "50000/50000 [==============================] - 6s 124us/step - loss: 1.1076 - acc: 0.6018 - val_loss: 1.5290 - val_acc: 0.4825\n",
            "Epoch 89/100\n",
            "50000/50000 [==============================] - 6s 124us/step - loss: 1.0977 - acc: 0.6071 - val_loss: 1.5767 - val_acc: 0.4721\n",
            "Epoch 90/100\n",
            "50000/50000 [==============================] - 6s 123us/step - loss: 1.1057 - acc: 0.6027 - val_loss: 1.5571 - val_acc: 0.4764\n",
            "Epoch 91/100\n",
            "50000/50000 [==============================] - 6s 123us/step - loss: 1.1010 - acc: 0.6051 - val_loss: 1.5873 - val_acc: 0.4706\n",
            "Epoch 92/100\n",
            "50000/50000 [==============================] - 6s 121us/step - loss: 1.0952 - acc: 0.6062 - val_loss: 1.5587 - val_acc: 0.4809\n",
            "Epoch 93/100\n",
            "50000/50000 [==============================] - 6s 122us/step - loss: 1.0887 - acc: 0.6092 - val_loss: 1.5519 - val_acc: 0.4881\n",
            "Epoch 94/100\n",
            "50000/50000 [==============================] - 6s 123us/step - loss: 1.0838 - acc: 0.6109 - val_loss: 1.5770 - val_acc: 0.4802\n",
            "Epoch 95/100\n",
            "50000/50000 [==============================] - 6s 123us/step - loss: 1.0811 - acc: 0.6112 - val_loss: 1.5926 - val_acc: 0.4775\n",
            "Epoch 96/100\n",
            "50000/50000 [==============================] - 6s 123us/step - loss: 1.0776 - acc: 0.6122 - val_loss: 1.5720 - val_acc: 0.4805\n",
            "Epoch 97/100\n",
            "50000/50000 [==============================] - 6s 125us/step - loss: 1.0783 - acc: 0.6122 - val_loss: 1.5825 - val_acc: 0.4752\n",
            "Epoch 98/100\n",
            "50000/50000 [==============================] - 7s 139us/step - loss: 1.0716 - acc: 0.6143 - val_loss: 1.5708 - val_acc: 0.4712\n",
            "Epoch 99/100\n",
            "50000/50000 [==============================] - 6s 128us/step - loss: 1.0688 - acc: 0.6176 - val_loss: 1.5553 - val_acc: 0.4807\n",
            "Epoch 100/100\n",
            "50000/50000 [==============================] - 6s 122us/step - loss: 1.0599 - acc: 0.6191 - val_loss: 1.6044 - val_acc: 0.4787\n"
          ],
          "name": "stdout"
        },
        {
          "output_type": "execute_result",
          "data": {
            "text/plain": [
              "<keras.callbacks.History at 0x7f27d19ef978>"
            ]
          },
          "metadata": {
            "tags": []
          },
          "execution_count": 6
        }
      ]
    },
    {
      "metadata": {
        "deletable": false,
        "editable": false,
        "nbgrader": {
          "checksum": "93628442b441be68b730b1fa9c16bddb",
          "grade": false,
          "grade_id": "cell-c268beb4e04bba08",
          "locked": true,
          "schema_version": 1,
          "solution": false
        },
        "id": "32P69yxRELH9",
        "colab_type": "text"
      },
      "cell_type": "markdown",
      "source": [
        "# 1D - Quantitative Evaluation\n",
        "Do some quantitative evaluation of your trained model. At minimum you should report the accuracy on some withheld data. Plots would be preferable."
      ]
    },
    {
      "metadata": {
        "deletable": false,
        "nbgrader": {
          "checksum": "4917b1d7f5cafa5999c0bdfd7b32255b",
          "grade": true,
          "grade_id": "1d",
          "locked": false,
          "points": 8,
          "schema_version": 1,
          "solution": true
        },
        "id": "KMjNlE1qELH-",
        "colab_type": "code",
        "outputId": "7bb11455-fef8-448a-96c8-7458f4d87a76",
        "colab": {
          "base_uri": "https://localhost:8080/",
          "height": 67
        }
      },
      "cell_type": "code",
      "source": [
        "# Score trained model.\n",
        "scores = model.evaluate(x_test, y_test, verbose=1)\n",
        "print('Test loss:', scores[0])\n",
        "print('Test accuracy:', scores[1])"
      ],
      "execution_count": 7,
      "outputs": [
        {
          "output_type": "stream",
          "text": [
            "10000/10000 [==============================] - 1s 54us/step\n",
            "Test loss: 1.6043680820465087\n",
            "Test accuracy: 0.4787\n"
          ],
          "name": "stdout"
        }
      ]
    },
    {
      "metadata": {
        "id": "MIyBIm0GMXzD",
        "colab_type": "code",
        "colab": {
          "base_uri": "https://localhost:8080/",
          "height": 574
        },
        "outputId": "db96e5a9-2231-4103-ba0f-8e2979c6779b"
      },
      "cell_type": "code",
      "source": [
        "# summarize history for accuracy\n",
        "plt.plot(model.history.history['acc'])\n",
        "plt.plot(model.history.history['val_acc'])\n",
        "plt.title('model accuracy')\n",
        "plt.ylabel('accuracy')\n",
        "plt.xlabel('epoch')\n",
        "plt.legend(['train', 'test'], loc='upper left')\n",
        "plt.show()\n",
        "# summarize history for loss\n",
        "plt.plot(model.history.history['loss'])\n",
        "plt.plot(model.history.history['val_loss'])\n",
        "plt.title('model loss')\n",
        "plt.ylabel('loss')\n",
        "plt.xlabel('epoch')\n",
        "plt.legend(['train', 'test'], loc='upper left')\n",
        "plt.show()"
      ],
      "execution_count": 8,
      "outputs": [
        {
          "output_type": "display_data",
          "data": {
            "image/png": "[encoded data removed]",
            "text/plain": [
              "<Figure size 432x288 with 1 Axes>"
            ]
          },
          "metadata": {
            "tags": []
          }
        },
        {
          "output_type": "display_data",
          "data": {
            "image/png": "[encoded data removed]",
            "text/plain": [
              "<Figure size 432x288 with 1 Axes>"
            ]
          },
          "metadata": {
            "tags": []
          }
        }
      ]
    },
    {
      "metadata": {
        "deletable": false,
        "editable": false,
        "nbgrader": {
          "checksum": "b2e9926f2fb9b0377645e076980befb5",
          "grade": false,
          "grade_id": "cell-ff5f24f6fa65f3e2",
          "locked": true,
          "schema_version": 1,
          "solution": false
        },
        "id": "plhv3E6OELIB",
        "colab_type": "text"
      },
      "cell_type": "markdown",
      "source": [
        "# 1E - Qualitative Evaluation\n",
        "Do some qualitative evaluation of your trained model. \n",
        "\n",
        "An example would be visualizing a small sample (10 or so) of images that were correctly classified from your validation data, and another sample of incorrectly classified samples."
      ]
    },
    {
      "metadata": {
        "deletable": false,
        "nbgrader": {
          "checksum": "27e15001632de78267236798714a6860",
          "grade": true,
          "grade_id": "1e",
          "locked": false,
          "points": 8,
          "schema_version": 1,
          "solution": true
        },
        "id": "i8rlvls2ELID",
        "colab_type": "code",
        "colab": {
          "base_uri": "https://localhost:8080/",
          "height": 462
        },
        "outputId": "f1757768-2950-498f-ea39-0a92e2bdcb52"
      },
      "cell_type": "code",
      "source": [
        "import numpy as np\n",
        "import matplotlib.pyplot as plt\n",
        "num_classes = 10\n",
        "class_names = ['airplane','automobile','bird','cat','deer','dog','frog','horse','ship','truck']\n",
        "fig = plt.figure(figsize=(8,3))\n",
        "for i in range(num_classes):\n",
        "    ax = fig.add_subplot(2, 5, 1 + i, xticks=[], yticks=[])\n",
        "    idx = np.where(y_train[:]==i)[0]\n",
        "    features_idx = x_train[idx,::]\n",
        "    img_num = np.random.randint(features_idx.shape[0])\n",
        "    im = np.transpose(features_idx[img_num,::],(1,2,0))\n",
        "    ax.set_title(class_names[i])\n",
        "    plt.imshow(im)\n",
        "plt.show()"
      ],
      "execution_count": 6,
      "outputs": [
        {
          "output_type": "error",
          "ename": "TypeError",
          "evalue": "ignored",
          "traceback": [
            "\u001b[0;31m---------------------------------------------------------------------------\u001b[0m",
            "\u001b[0;31mTypeError\u001b[0m                                 Traceback (most recent call last)",
            "\u001b[0;32m<ipython-input-6-b11d812f8651>\u001b[0m in \u001b[0;36m<module>\u001b[0;34m()\u001b[0m\n\u001b[1;32m     11\u001b[0m     \u001b[0mim\u001b[0m \u001b[0;34m=\u001b[0m \u001b[0mnp\u001b[0m\u001b[0;34m.\u001b[0m\u001b[0mtranspose\u001b[0m\u001b[0;34m(\u001b[0m\u001b[0mfeatures_idx\u001b[0m\u001b[0;34m[\u001b[0m\u001b[0mimg_num\u001b[0m\u001b[0;34m,\u001b[0m\u001b[0;34m:\u001b[0m\u001b[0;34m:\u001b[0m\u001b[0;34m]\u001b[0m\u001b[0;34m,\u001b[0m\u001b[0;34m(\u001b[0m\u001b[0;36m1\u001b[0m\u001b[0;34m,\u001b[0m\u001b[0;36m2\u001b[0m\u001b[0;34m,\u001b[0m\u001b[0;36m0\u001b[0m\u001b[0;34m)\u001b[0m\u001b[0;34m)\u001b[0m\u001b[0;34m\u001b[0m\u001b[0;34m\u001b[0m\u001b[0m\n\u001b[1;32m     12\u001b[0m     \u001b[0max\u001b[0m\u001b[0;34m.\u001b[0m\u001b[0mset_title\u001b[0m\u001b[0;34m(\u001b[0m\u001b[0mclass_names\u001b[0m\u001b[0;34m[\u001b[0m\u001b[0mi\u001b[0m\u001b[0;34m]\u001b[0m\u001b[0;34m)\u001b[0m\u001b[0;34m\u001b[0m\u001b[0;34m\u001b[0m\u001b[0m\n\u001b[0;32m---> 13\u001b[0;31m     \u001b[0mplt\u001b[0m\u001b[0;34m.\u001b[0m\u001b[0mimshow\u001b[0m\u001b[0;34m(\u001b[0m\u001b[0mim\u001b[0m\u001b[0;34m)\u001b[0m\u001b[0;34m\u001b[0m\u001b[0;34m\u001b[0m\u001b[0m\n\u001b[0m\u001b[1;32m     14\u001b[0m \u001b[0mplt\u001b[0m\u001b[0;34m.\u001b[0m\u001b[0mshow\u001b[0m\u001b[0;34m(\u001b[0m\u001b[0;34m)\u001b[0m\u001b[0;34m\u001b[0m\u001b[0;34m\u001b[0m\u001b[0m\n",
            "\u001b[0;32m/usr/local/lib/python3.6/dist-packages/matplotlib/pyplot.py\u001b[0m in \u001b[0;36mimshow\u001b[0;34m(X, cmap, norm, aspect, interpolation, alpha, vmin, vmax, origin, extent, shape, filternorm, filterrad, imlim, resample, url, data, **kwargs)\u001b[0m\n\u001b[1;32m   2697\u001b[0m         \u001b[0mfilternorm\u001b[0m\u001b[0;34m=\u001b[0m\u001b[0mfilternorm\u001b[0m\u001b[0;34m,\u001b[0m \u001b[0mfilterrad\u001b[0m\u001b[0;34m=\u001b[0m\u001b[0mfilterrad\u001b[0m\u001b[0;34m,\u001b[0m \u001b[0mimlim\u001b[0m\u001b[0;34m=\u001b[0m\u001b[0mimlim\u001b[0m\u001b[0;34m,\u001b[0m\u001b[0;34m\u001b[0m\u001b[0;34m\u001b[0m\u001b[0m\n\u001b[1;32m   2698\u001b[0m         resample=resample, url=url, **({\"data\": data} if data is not\n\u001b[0;32m-> 2699\u001b[0;31m         None else {}), **kwargs)\n\u001b[0m\u001b[1;32m   2700\u001b[0m     \u001b[0msci\u001b[0m\u001b[0;34m(\u001b[0m\u001b[0m__ret\u001b[0m\u001b[0;34m)\u001b[0m\u001b[0;34m\u001b[0m\u001b[0;34m\u001b[0m\u001b[0m\n\u001b[1;32m   2701\u001b[0m     \u001b[0;32mreturn\u001b[0m \u001b[0m__ret\u001b[0m\u001b[0;34m\u001b[0m\u001b[0;34m\u001b[0m\u001b[0m\n",
            "\u001b[0;32m/usr/local/lib/python3.6/dist-packages/matplotlib/__init__.py\u001b[0m in \u001b[0;36minner\u001b[0;34m(ax, data, *args, **kwargs)\u001b[0m\n\u001b[1;32m   1808\u001b[0m                         \u001b[0;34m\"the Matplotlib list!)\"\u001b[0m \u001b[0;34m%\u001b[0m \u001b[0;34m(\u001b[0m\u001b[0mlabel_namer\u001b[0m\u001b[0;34m,\u001b[0m \u001b[0mfunc\u001b[0m\u001b[0;34m.\u001b[0m\u001b[0m__name__\u001b[0m\u001b[0;34m)\u001b[0m\u001b[0;34m,\u001b[0m\u001b[0;34m\u001b[0m\u001b[0;34m\u001b[0m\u001b[0m\n\u001b[1;32m   1809\u001b[0m                         RuntimeWarning, stacklevel=2)\n\u001b[0;32m-> 1810\u001b[0;31m             \u001b[0;32mreturn\u001b[0m \u001b[0mfunc\u001b[0m\u001b[0;34m(\u001b[0m\u001b[0max\u001b[0m\u001b[0;34m,\u001b[0m \u001b[0;34m*\u001b[0m\u001b[0margs\u001b[0m\u001b[0;34m,\u001b[0m \u001b[0;34m**\u001b[0m\u001b[0mkwargs\u001b[0m\u001b[0;34m)\u001b[0m\u001b[0;34m\u001b[0m\u001b[0;34m\u001b[0m\u001b[0m\n\u001b[0m\u001b[1;32m   1811\u001b[0m \u001b[0;34m\u001b[0m\u001b[0m\n\u001b[1;32m   1812\u001b[0m         inner.__doc__ = _add_data_doc(inner.__doc__,\n",
            "\u001b[0;32m/usr/local/lib/python3.6/dist-packages/matplotlib/axes/_axes.py\u001b[0m in \u001b[0;36mimshow\u001b[0;34m(self, X, cmap, norm, aspect, interpolation, alpha, vmin, vmax, origin, extent, shape, filternorm, filterrad, imlim, resample, url, **kwargs)\u001b[0m\n\u001b[1;32m   5492\u001b[0m                               resample=resample, **kwargs)\n\u001b[1;32m   5493\u001b[0m \u001b[0;34m\u001b[0m\u001b[0m\n\u001b[0;32m-> 5494\u001b[0;31m         \u001b[0mim\u001b[0m\u001b[0;34m.\u001b[0m\u001b[0mset_data\u001b[0m\u001b[0;34m(\u001b[0m\u001b[0mX\u001b[0m\u001b[0;34m)\u001b[0m\u001b[0;34m\u001b[0m\u001b[0;34m\u001b[0m\u001b[0m\n\u001b[0m\u001b[1;32m   5495\u001b[0m         \u001b[0mim\u001b[0m\u001b[0;34m.\u001b[0m\u001b[0mset_alpha\u001b[0m\u001b[0;34m(\u001b[0m\u001b[0malpha\u001b[0m\u001b[0;34m)\u001b[0m\u001b[0;34m\u001b[0m\u001b[0;34m\u001b[0m\u001b[0m\n\u001b[1;32m   5496\u001b[0m         \u001b[0;32mif\u001b[0m \u001b[0mim\u001b[0m\u001b[0;34m.\u001b[0m\u001b[0mget_clip_path\u001b[0m\u001b[0;34m(\u001b[0m\u001b[0;34m)\u001b[0m \u001b[0;32mis\u001b[0m \u001b[0;32mNone\u001b[0m\u001b[0;34m:\u001b[0m\u001b[0;34m\u001b[0m\u001b[0;34m\u001b[0m\u001b[0m\n",
            "\u001b[0;32m/usr/local/lib/python3.6/dist-packages/matplotlib/image.py\u001b[0m in \u001b[0;36mset_data\u001b[0;34m(self, A)\u001b[0m\n\u001b[1;32m    636\u001b[0m         if not (self._A.ndim == 2\n\u001b[1;32m    637\u001b[0m                 or self._A.ndim == 3 and self._A.shape[-1] in [3, 4]):\n\u001b[0;32m--> 638\u001b[0;31m             \u001b[0;32mraise\u001b[0m \u001b[0mTypeError\u001b[0m\u001b[0;34m(\u001b[0m\u001b[0;34m\"Invalid dimensions for image data\"\u001b[0m\u001b[0;34m)\u001b[0m\u001b[0;34m\u001b[0m\u001b[0;34m\u001b[0m\u001b[0m\n\u001b[0m\u001b[1;32m    639\u001b[0m \u001b[0;34m\u001b[0m\u001b[0m\n\u001b[1;32m    640\u001b[0m         \u001b[0;32mif\u001b[0m \u001b[0mself\u001b[0m\u001b[0;34m.\u001b[0m\u001b[0m_A\u001b[0m\u001b[0;34m.\u001b[0m\u001b[0mndim\u001b[0m \u001b[0;34m==\u001b[0m \u001b[0;36m3\u001b[0m\u001b[0;34m:\u001b[0m\u001b[0;34m\u001b[0m\u001b[0;34m\u001b[0m\u001b[0m\n",
            "\u001b[0;31mTypeError\u001b[0m: Invalid dimensions for image data"
          ]
        },
        {
          "output_type": "display_data",
          "data": {
            "image/png": "[encoded data removed]",
            "text/plain": [
              "<Figure size 576x216 with 1 Axes>"
            ]
          },
          "metadata": {
            "tags": []
          }
        }
      ]
    },
    {
      "metadata": {
        "id": "H1QndfVyno61",
        "colab_type": "code",
        "colab": {}
      },
      "cell_type": "code",
      "source": [
        "airplane\t\t\t\t\t\t\t\t\t\t\n",
        "automobile\t\t\t\t\t\t\t\t\t\t\n",
        "bird\t\t\t\t\t\t\t\t\t\t\n",
        "cat\t\t\t\t\t\t\t\t\t\t\n",
        "deer\t\t\t\t\t\t\t\t\t\t\n",
        "dog\t\t\t\t\t\t\t\t\t\t\n",
        "frog\t\t\t\t\t\t\t\t\t\t\n",
        "horse\t\t\t\t\t\t\t\t\t\t\n",
        "ship\t\t\t\t\t\t\t\t\t\t\n",
        "truck"
      ],
      "execution_count": 0,
      "outputs": []
    },
    {
      "metadata": {
        "id": "G9xu5zvXTAHF",
        "colab_type": "code",
        "colab": {}
      },
      "cell_type": "code",
      "source": [
        "y"
      ],
      "execution_count": 0,
      "outputs": []
    },
    {
      "metadata": {
        "id": "tIpD8zdxWqLx",
        "colab_type": "code",
        "colab": {}
      },
      "cell_type": "code",
      "source": [
        "import numpy as np\n",
        "np.argmax(y)"
      ],
      "execution_count": 0,
      "outputs": []
    },
    {
      "metadata": {
        "id": "MGi5eciudJNO",
        "colab_type": "code",
        "colab": {}
      },
      "cell_type": "code",
      "source": [
        ""
      ],
      "execution_count": 0,
      "outputs": []
    },
    {
      "metadata": {
        "deletable": false,
        "editable": false,
        "nbgrader": {
          "checksum": "8abd0707a23ba04b8532f033a6c83e0c",
          "grade": false,
          "grade_id": "cell-d64718274e1c74e8",
          "locked": true,
          "schema_version": 1,
          "solution": false
        },
        "id": "IAz7npHVELII",
        "colab_type": "text"
      },
      "cell_type": "markdown",
      "source": [
        "# 1F - Report\n",
        "Write a few sentence summary of your work on part 1. It should answer the following questions:\n",
        "\n",
        "1. What task were you trying to solve?\n",
        "2. How did you implement it?\n",
        "3. How did it perform? Did it do well? Overfit? Underfit?\n",
        "4. Cite any resources/tutorials you used (informally, just a URL is ok). Citing papers isn't necessary.\n",
        "5. This is meant to be a very simple summary (like the 'abstract' of a paper). No diagrams/etc necessary."
      ]
    },
    {
      "metadata": {
        "deletable": false,
        "nbgrader": {
          "checksum": "5056a1ecc0f5eb241aa265e2bb4323af",
          "grade": true,
          "grade_id": "1f",
          "locked": false,
          "points": 10,
          "schema_version": 1,
          "solution": true
        },
        "id": "G-niwhAEELIJ",
        "colab_type": "text"
      },
      "cell_type": "markdown",
      "source": [
        "YOUR ANSWER HERE"
      ]
    },
    {
      "metadata": {
        "deletable": false,
        "editable": false,
        "nbgrader": {
          "checksum": "10e364dd0cb41f5ea572c494acf33e20",
          "grade": false,
          "grade_id": "cell-326d261ff85c6db7",
          "locked": true,
          "schema_version": 1,
          "solution": false
        },
        "id": "igFeYWyDELIK",
        "colab_type": "text"
      },
      "cell_type": "markdown",
      "source": [
        "---------------------------------------------"
      ]
    },
    {
      "metadata": {
        "deletable": false,
        "editable": false,
        "nbgrader": {
          "checksum": "c509df027738d93e33e449af8b1dea3d",
          "grade": false,
          "grade_id": "cell-979f0bd35b7c857d",
          "locked": true,
          "schema_version": 1,
          "solution": false
        },
        "id": "VQHbbCoJELIL",
        "colab_type": "text"
      },
      "cell_type": "markdown",
      "source": [
        "# Part 2 - Advanced architectures (CNN/RNN)\n",
        "In part 2 train an advanced architecture like a CNN to perform the same task from part 1. Please assume part 1 and 2 are run independently. So you may need to repeat code twice.\n",
        "\n",
        "You do not need to do anything super fancy (don't try to train a 50 layer residual network, etc)."
      ]
    },
    {
      "metadata": {
        "deletable": false,
        "editable": false,
        "nbgrader": {
          "checksum": "510c87ee6bb8952f2e123297e71f33e5",
          "grade": false,
          "grade_id": "cell-6386fe54ffcfe0f0",
          "locked": true,
          "schema_version": 1,
          "solution": false
        },
        "id": "a3lKUL6AELIM",
        "colab_type": "text"
      },
      "cell_type": "markdown",
      "source": [
        "# 2A - Preprocessing\n",
        "Code that does any imports, data loading, preprocessing, normalization goes in the cell below."
      ]
    },
    {
      "metadata": {
        "deletable": false,
        "nbgrader": {
          "checksum": "c6401fdc9ad5f687e1d87b27b44b0de6",
          "grade": true,
          "grade_id": "2a",
          "locked": false,
          "points": 8,
          "schema_version": 1,
          "solution": true
        },
        "id": "pLzHQrwyELIN",
        "colab_type": "code",
        "colab": {}
      },
      "cell_type": "code",
      "source": [
        "# YOUR CODE HERE\n",
        "raise NotImplementedError()"
      ],
      "execution_count": 0,
      "outputs": []
    },
    {
      "metadata": {
        "deletable": false,
        "editable": false,
        "nbgrader": {
          "checksum": "bec3b5493e239c1028ebe30ba7e3918b",
          "grade": false,
          "grade_id": "cell-f934f1e502453cae",
          "locked": true,
          "schema_version": 1,
          "solution": false
        },
        "id": "SlS97NrUELIQ",
        "colab_type": "text"
      },
      "cell_type": "markdown",
      "source": [
        "# 2B - Model definition\n",
        "Create a fully connected feedforward network model. You can use whatever you want in terms of activation functions/architecture/etc.\n",
        "\n",
        "However please make sure your architecture is compatible with the task you choose."
      ]
    },
    {
      "metadata": {
        "deletable": false,
        "nbgrader": {
          "checksum": "8661e068cfe98df6c4c97f6f297321e2",
          "grade": true,
          "grade_id": "2b",
          "locked": false,
          "points": 8,
          "schema_version": 1,
          "solution": true
        },
        "id": "ruckOiX6ELIQ",
        "colab_type": "code",
        "colab": {}
      },
      "cell_type": "code",
      "source": [
        "# YOUR CODE HERE\n",
        "raise NotImplementedError()"
      ],
      "execution_count": 0,
      "outputs": []
    },
    {
      "metadata": {
        "deletable": false,
        "editable": false,
        "nbgrader": {
          "checksum": "b9d1083587628091653eb3563f18b7be",
          "grade": false,
          "grade_id": "cell-7d0e60aef3748e6e",
          "locked": true,
          "schema_version": 1,
          "solution": false
        },
        "id": "gesmfb6VELIT",
        "colab_type": "text"
      },
      "cell_type": "markdown",
      "source": [
        "# 2C - Training\n",
        "Train a more advanced (CNN/RNN) for this task. If you do some kind of hyperparameter search, just include the best parameters in your submission."
      ]
    },
    {
      "metadata": {
        "deletable": false,
        "nbgrader": {
          "checksum": "21601801bac726b08e5c694d6e1688f6",
          "grade": true,
          "grade_id": "2c",
          "locked": false,
          "points": 8,
          "schema_version": 1,
          "solution": true
        },
        "id": "Klo2GE9IELIU",
        "colab_type": "code",
        "colab": {}
      },
      "cell_type": "code",
      "source": [
        "# YOUR CODE HERE\n",
        "raise NotImplementedError()"
      ],
      "execution_count": 0,
      "outputs": []
    },
    {
      "metadata": {
        "deletable": false,
        "editable": false,
        "nbgrader": {
          "checksum": "d1b6d1a09bcd94182216a4a4d2c77c77",
          "grade": false,
          "grade_id": "cell-307e87f69de91563",
          "locked": true,
          "schema_version": 1,
          "solution": false
        },
        "id": "kmnXw-eVELIY",
        "colab_type": "text"
      },
      "cell_type": "markdown",
      "source": [
        "# 2D - Quantitative Evaluation\n",
        "Re-do the quantiative evaluation from part 1 using this more advanced model."
      ]
    },
    {
      "metadata": {
        "deletable": false,
        "nbgrader": {
          "checksum": "6640f3ceec388351da91e1594dff1879",
          "grade": true,
          "grade_id": "2d",
          "locked": false,
          "points": 8,
          "schema_version": 1,
          "solution": true
        },
        "id": "-bAroXUaELIZ",
        "colab_type": "code",
        "colab": {}
      },
      "cell_type": "code",
      "source": [
        "# YOUR CODE HERE\n",
        "raise NotImplementedError()"
      ],
      "execution_count": 0,
      "outputs": []
    },
    {
      "metadata": {
        "deletable": false,
        "editable": false,
        "nbgrader": {
          "checksum": "795d449080ed24487023f22148182b50",
          "grade": false,
          "grade_id": "cell-1676684ad850f591",
          "locked": true,
          "schema_version": 1,
          "solution": false
        },
        "id": "8kLs5X2eELIb",
        "colab_type": "text"
      },
      "cell_type": "markdown",
      "source": [
        "# 2E - Qualitative Evaluation\n",
        "Re-do the qualitative evaluation from part 1 using this more advanced model."
      ]
    },
    {
      "metadata": {
        "deletable": false,
        "nbgrader": {
          "checksum": "e8432626b0c215da88dd9cefc782c1c7",
          "grade": true,
          "grade_id": "2e",
          "locked": false,
          "points": 8,
          "schema_version": 1,
          "solution": true
        },
        "id": "ewbx1nW8ELIc",
        "colab_type": "code",
        "colab": {}
      },
      "cell_type": "code",
      "source": [
        "# YOUR CODE HERE\n",
        "raise NotImplementedError()"
      ],
      "execution_count": 0,
      "outputs": []
    },
    {
      "metadata": {
        "deletable": false,
        "editable": false,
        "nbgrader": {
          "checksum": "d382825e8158096ba3dc1fd8c40f89d1",
          "grade": false,
          "grade_id": "cell-0570698e87cb2784",
          "locked": true,
          "schema_version": 1,
          "solution": false
        },
        "id": "J-hPEJOsELIe",
        "colab_type": "text"
      },
      "cell_type": "markdown",
      "source": [
        "# 2F - Report\n",
        "Write a few sentence summary of your work on part 2. Focus on the differences from part 1.\n",
        "\n",
        "The summary should at least answer the following questions:\n",
        "1. What task were you trying to solve?\n",
        "2. How did you implement it.\n",
        "3. How did it perform? Can you interpret the performance metrics in plain english? Did it do well? Overfit? Underfit?\n",
        "4. Cite any resources/tutorials you used (informally, just a URL is ok). Citing papers isn't necessary.\n",
        "5. This is meant to be a very simple summary (like the 'abstract' of a paper). No diagrams/etc necessary.\n",
        "\n",
        "You can do some basic formatting with markdown if you'd like.\n"
      ]
    },
    {
      "metadata": {
        "deletable": false,
        "nbgrader": {
          "checksum": "a71dfaab31ad0efc687fb04f9158af94",
          "grade": true,
          "grade_id": "2f",
          "locked": false,
          "points": 10,
          "schema_version": 1,
          "solution": true
        },
        "id": "Tlk-D3exELIf",
        "colab_type": "text"
      },
      "cell_type": "markdown",
      "source": [
        "YOUR ANSWER HERE"
      ]
    }
  ]
}